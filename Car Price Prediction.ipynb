{
 "cells": [
  {
   "cell_type": "markdown",
   "id": "b2290688-a212-4401-9962-0b856a5861b3",
   "metadata": {},
   "source": [
    "# Определение стоимости автомобилей"
   ]
  },
  {
   "cell_type": "markdown",
   "id": "dae3540e-963f-42cc-acd9-df8e626d3b3c",
   "metadata": {},
   "source": [
    "## Описание проекта"
   ]
  },
  {
   "cell_type": "markdown",
   "id": "b0d2463c-0887-4d12-a4fb-e03aee3e4000",
   "metadata": {},
   "source": [
    "**Определение рыночной стоимости автомобилей с пробегом**\n",
    "Рынок автомобилей с пробегом является одним из наиболее динамичных сегментов автомобильной индустрии, где стоимость транспортного средства зависит от множества факторов: технических характеристик, пробега, состояния и истории эксплуатации. Для сервиса «Не бит, не крашен» критически важно уметь объективно оценивать рыночную стоимость автомобиля, чтобы привлекать новых клиентов и предлагать им честные и прозрачные условия. В распоряжении находятся данные об объявлениях: технические параметры, комплектация, история регистрации и цены, что позволит построить модель для автоматического прогнозирования стоимости автомобиля.\n",
    "\n",
    "**Цель исследования:** Разработка системы моделей машинного обучения для прогнозирования рыночной стоимости автомобилей с пробегом. Основное внимание будет уделено сравнению различных алгоритмов с точки зрения качества предсказаний, скорости обучения и времени отклика модели, что позволит выбрать оптимальное решение для внедрения в сервис.\n",
    "\n",
    "**Ход исследования:**\n",
    "\n",
    "* Загрузка и первичное изучение данных об автомобилях\n",
    "* Обработка пропусков, аномалий и удаление неинформативных признаков\n",
    "* Подготовка обучающих и тестовых выборок\n",
    "* Исследовательский анализ признаков и их влияния на стоимость\n",
    "* Обучение и сравнение различных моделей машинного обучения (в том числе LightGBM и классических алгоритмов)\n",
    "* Подбор гиперпараметров и оценка качества предсказаний с использованием метрики RMSE\n",
    "* Анализ времени обучения и скорости предсказания для каждой модели\n",
    "* Выбор оптимальной модели и проверка её качества на тестовой выборке\n",
    "\n",
    "**Общий вывод:** Анализ позволит выявить ключевые факторы, влияющие на стоимость автомобиля: марка, модель, тип кузова, год регистрации, мощность двигателя, пробег и история ремонта. Особое внимание будет уделено сравнению простых и продвинутых алгоритмов, чтобы учесть требования заказчика по балансу между точностью, временем обучения и скоростью предсказаний. Результаты исследования станут основой для построения сервиса оценки автомобилей и помогут пользователям быстро получать достоверную информацию о рыночной стоимости своего транспортного средства.\n",
    "\n",
    "**В ходе исследования планируется:**\n",
    "\n",
    "* Построить несколько моделей машинного обучения для прогнозирования стоимости автомобиля;\n",
    "* Сравнить их по критериям: точность (RMSE), время обучения и скорость предсказания;\n",
    "* Выявить наиболее значимые факторы, влияющие на рыночную цену;\n",
    "* Обеспечить RMSE модели менее 2500 для достижения требований заказчика;\n",
    "* Выбрать оптимальный алгоритм, который можно внедрить в приложение «Не бит, не крашен» для оценки автомобилей с пробегом.\n",
    "\n",
    "Полученные результаты помогут сервису повысить доверие клиентов, упростить процесс оценки автомобиля и укрепить конкурентные позиции на рынке подержанных машин."
   ]
  },
  {
   "cell_type": "markdown",
   "id": "2504e4ab-3720-4017-b362-14c511cbf0dd",
   "metadata": {},
   "source": [
    "# Шаг №1. Загрузка данных. "
   ]
  },
  {
   "cell_type": "code",
   "execution_count": 1,
   "id": "28082773-f58d-42f7-800c-abedfb13f76d",
   "metadata": {},
   "outputs": [],
   "source": [
    "!pip install -q lightgbm"
   ]
  },
  {
   "cell_type": "code",
   "execution_count": 2,
   "id": "6d9b5c60-174c-4496-819a-aefc0c124a64",
   "metadata": {},
   "outputs": [],
   "source": [
    "!pip install -U -q scikit-learn"
   ]
  },
  {
   "cell_type": "code",
   "execution_count": 3,
   "id": "43dd8be7-8f0c-408d-9a33-f77bdb7af051",
   "metadata": {},
   "outputs": [],
   "source": [
    "# Импорт основных библиотек\n",
    "import os\n",
    "import time\n",
    "import warnings\n",
    "\n",
    "import numpy as np\n",
    "import pandas as pd\n",
    "import matplotlib.pyplot as plt\n",
    "import seaborn as sns\n",
    "\n",
    "# Игнорируем лишние предупреждения\n",
    "filters = [\n",
    "    {\"message\": \"X does not have valid feature names\"},\n",
    "    {\"category\": UserWarning, \"module\": \"sklearn.preprocessing._encoders\"},\n",
    "    {\"category\": FutureWarning, \"module\": \"sklearn.utils.deprecation\"},\n",
    "]\n",
    "for f in filters:\n",
    "    warnings.filterwarnings(\"ignore\", **f)\n",
    "\n",
    "# Scikit-learn: инструменты для данных и моделей\n",
    "from sklearn.model_selection import train_test_split, GridSearchCV\n",
    "from sklearn.preprocessing import StandardScaler, OneHotEncoder, OrdinalEncoder\n",
    "from sklearn.compose import ColumnTransformer\n",
    "from sklearn.pipeline import Pipeline\n",
    "from sklearn.metrics import mean_squared_error\n",
    "\n",
    "# Модели для сравнения\n",
    "from sklearn.linear_model import LinearRegression, Ridge\n",
    "from sklearn.tree import DecisionTreeRegressor\n",
    "from sklearn.ensemble import RandomForestRegressor\n",
    "\n",
    "# Градиентный бустинг\n",
    "import lightgbm as lgb"
   ]
  },
  {
   "cell_type": "code",
   "execution_count": 4,
   "id": "d4adcb00-fe35-4759-a7cd-72ed2679d6ef",
   "metadata": {},
   "outputs": [
    {
     "name": "stdout",
     "output_type": "stream",
     "text": [
      "(354369, 16)\n"
     ]
    },
    {
     "data": {
      "text/html": [
       "<div>\n",
       "<style scoped>\n",
       "    .dataframe tbody tr th:only-of-type {\n",
       "        vertical-align: middle;\n",
       "    }\n",
       "\n",
       "    .dataframe tbody tr th {\n",
       "        vertical-align: top;\n",
       "    }\n",
       "\n",
       "    .dataframe thead th {\n",
       "        text-align: right;\n",
       "    }\n",
       "</style>\n",
       "<table border=\"1\" class=\"dataframe\">\n",
       "  <thead>\n",
       "    <tr style=\"text-align: right;\">\n",
       "      <th></th>\n",
       "      <th>DateCrawled</th>\n",
       "      <th>Price</th>\n",
       "      <th>VehicleType</th>\n",
       "      <th>RegistrationYear</th>\n",
       "      <th>Gearbox</th>\n",
       "      <th>Power</th>\n",
       "      <th>Model</th>\n",
       "      <th>Kilometer</th>\n",
       "      <th>RegistrationMonth</th>\n",
       "      <th>FuelType</th>\n",
       "      <th>Brand</th>\n",
       "      <th>Repaired</th>\n",
       "      <th>DateCreated</th>\n",
       "      <th>NumberOfPictures</th>\n",
       "      <th>PostalCode</th>\n",
       "      <th>LastSeen</th>\n",
       "    </tr>\n",
       "  </thead>\n",
       "  <tbody>\n",
       "    <tr>\n",
       "      <th>0</th>\n",
       "      <td>2016-03-24 11:52:17</td>\n",
       "      <td>480</td>\n",
       "      <td>NaN</td>\n",
       "      <td>1993</td>\n",
       "      <td>manual</td>\n",
       "      <td>0</td>\n",
       "      <td>golf</td>\n",
       "      <td>150000</td>\n",
       "      <td>0</td>\n",
       "      <td>petrol</td>\n",
       "      <td>volkswagen</td>\n",
       "      <td>NaN</td>\n",
       "      <td>2016-03-24 00:00:00</td>\n",
       "      <td>0</td>\n",
       "      <td>70435</td>\n",
       "      <td>2016-04-07 03:16:57</td>\n",
       "    </tr>\n",
       "    <tr>\n",
       "      <th>1</th>\n",
       "      <td>2016-03-24 10:58:45</td>\n",
       "      <td>18300</td>\n",
       "      <td>coupe</td>\n",
       "      <td>2011</td>\n",
       "      <td>manual</td>\n",
       "      <td>190</td>\n",
       "      <td>NaN</td>\n",
       "      <td>125000</td>\n",
       "      <td>5</td>\n",
       "      <td>gasoline</td>\n",
       "      <td>audi</td>\n",
       "      <td>yes</td>\n",
       "      <td>2016-03-24 00:00:00</td>\n",
       "      <td>0</td>\n",
       "      <td>66954</td>\n",
       "      <td>2016-04-07 01:46:50</td>\n",
       "    </tr>\n",
       "    <tr>\n",
       "      <th>2</th>\n",
       "      <td>2016-03-14 12:52:21</td>\n",
       "      <td>9800</td>\n",
       "      <td>suv</td>\n",
       "      <td>2004</td>\n",
       "      <td>auto</td>\n",
       "      <td>163</td>\n",
       "      <td>grand</td>\n",
       "      <td>125000</td>\n",
       "      <td>8</td>\n",
       "      <td>gasoline</td>\n",
       "      <td>jeep</td>\n",
       "      <td>NaN</td>\n",
       "      <td>2016-03-14 00:00:00</td>\n",
       "      <td>0</td>\n",
       "      <td>90480</td>\n",
       "      <td>2016-04-05 12:47:46</td>\n",
       "    </tr>\n",
       "    <tr>\n",
       "      <th>3</th>\n",
       "      <td>2016-03-17 16:54:04</td>\n",
       "      <td>1500</td>\n",
       "      <td>small</td>\n",
       "      <td>2001</td>\n",
       "      <td>manual</td>\n",
       "      <td>75</td>\n",
       "      <td>golf</td>\n",
       "      <td>150000</td>\n",
       "      <td>6</td>\n",
       "      <td>petrol</td>\n",
       "      <td>volkswagen</td>\n",
       "      <td>no</td>\n",
       "      <td>2016-03-17 00:00:00</td>\n",
       "      <td>0</td>\n",
       "      <td>91074</td>\n",
       "      <td>2016-03-17 17:40:17</td>\n",
       "    </tr>\n",
       "    <tr>\n",
       "      <th>4</th>\n",
       "      <td>2016-03-31 17:25:20</td>\n",
       "      <td>3600</td>\n",
       "      <td>small</td>\n",
       "      <td>2008</td>\n",
       "      <td>manual</td>\n",
       "      <td>69</td>\n",
       "      <td>fabia</td>\n",
       "      <td>90000</td>\n",
       "      <td>7</td>\n",
       "      <td>gasoline</td>\n",
       "      <td>skoda</td>\n",
       "      <td>no</td>\n",
       "      <td>2016-03-31 00:00:00</td>\n",
       "      <td>0</td>\n",
       "      <td>60437</td>\n",
       "      <td>2016-04-06 10:17:21</td>\n",
       "    </tr>\n",
       "  </tbody>\n",
       "</table>\n",
       "</div>"
      ],
      "text/plain": [
       "           DateCrawled  Price VehicleType  RegistrationYear Gearbox  Power  \\\n",
       "0  2016-03-24 11:52:17    480         NaN              1993  manual      0   \n",
       "1  2016-03-24 10:58:45  18300       coupe              2011  manual    190   \n",
       "2  2016-03-14 12:52:21   9800         suv              2004    auto    163   \n",
       "3  2016-03-17 16:54:04   1500       small              2001  manual     75   \n",
       "4  2016-03-31 17:25:20   3600       small              2008  manual     69   \n",
       "\n",
       "   Model  Kilometer  RegistrationMonth  FuelType       Brand Repaired  \\\n",
       "0   golf     150000                  0    petrol  volkswagen      NaN   \n",
       "1    NaN     125000                  5  gasoline        audi      yes   \n",
       "2  grand     125000                  8  gasoline        jeep      NaN   \n",
       "3   golf     150000                  6    petrol  volkswagen       no   \n",
       "4  fabia      90000                  7  gasoline       skoda       no   \n",
       "\n",
       "           DateCreated  NumberOfPictures  PostalCode             LastSeen  \n",
       "0  2016-03-24 00:00:00                 0       70435  2016-04-07 03:16:57  \n",
       "1  2016-03-24 00:00:00                 0       66954  2016-04-07 01:46:50  \n",
       "2  2016-03-14 00:00:00                 0       90480  2016-04-05 12:47:46  \n",
       "3  2016-03-17 00:00:00                 0       91074  2016-03-17 17:40:17  \n",
       "4  2016-03-31 00:00:00                 0       60437  2016-04-06 10:17:21  "
      ]
     },
     "execution_count": 4,
     "metadata": {},
     "output_type": "execute_result"
    }
   ],
   "source": [
    "# Пути к файлу\n",
    "pth1 = r\"D:\\downloads\\autos.csv\"        # Локальный путь (на твоём ноутбуке)\n",
    "pth2 = '/datasets/autos.csv'            # Внешний путь (Яндекс.Практикум)\n",
    "\n",
    "# Загрузка датасета\n",
    "if os.path.exists(pth1):\n",
    "    df = pd.read_csv(pth1, sep=',')\n",
    "elif os.path.exists(pth2):\n",
    "    df = pd.read_csv(pth2, sep=',')\n",
    "else:\n",
    "    display('Файл autos.csv не найден ни по одному из указанных путей.')\n",
    "    exit()\n",
    "\n",
    "# Проверим результат\n",
    "print(df.shape)\n",
    "df.head()"
   ]
  },
  {
   "cell_type": "markdown",
   "id": "f07f3f37-8f12-4dbe-a902-8e6849692e2f",
   "metadata": {},
   "source": [
    "# Шаг №2. Изучим данные."
   ]
  },
  {
   "cell_type": "code",
   "execution_count": 5,
   "id": "13116d30-e59b-4ea7-959a-2b673907cfb2",
   "metadata": {},
   "outputs": [
    {
     "name": "stdout",
     "output_type": "stream",
     "text": [
      "<class 'pandas.core.frame.DataFrame'>\n",
      "RangeIndex: 354369 entries, 0 to 354368\n",
      "Data columns (total 16 columns):\n",
      " #   Column             Non-Null Count   Dtype \n",
      "---  ------             --------------   ----- \n",
      " 0   DateCrawled        354369 non-null  object\n",
      " 1   Price              354369 non-null  int64 \n",
      " 2   VehicleType        316879 non-null  object\n",
      " 3   RegistrationYear   354369 non-null  int64 \n",
      " 4   Gearbox            334536 non-null  object\n",
      " 5   Power              354369 non-null  int64 \n",
      " 6   Model              334664 non-null  object\n",
      " 7   Kilometer          354369 non-null  int64 \n",
      " 8   RegistrationMonth  354369 non-null  int64 \n",
      " 9   FuelType           321474 non-null  object\n",
      " 10  Brand              354369 non-null  object\n",
      " 11  Repaired           283215 non-null  object\n",
      " 12  DateCreated        354369 non-null  object\n",
      " 13  NumberOfPictures   354369 non-null  int64 \n",
      " 14  PostalCode         354369 non-null  int64 \n",
      " 15  LastSeen           354369 non-null  object\n",
      "dtypes: int64(7), object(9)\n",
      "memory usage: 43.3+ MB\n"
     ]
    }
   ],
   "source": [
    "# Общая информация о датасете\n",
    "df.info()"
   ]
  },
  {
   "cell_type": "code",
   "execution_count": 6,
   "id": "f4c557fe-c0b7-4759-bd7a-03fc88070d4c",
   "metadata": {},
   "outputs": [
    {
     "data": {
      "text/plain": [
       "DateCrawled              0\n",
       "Price                    0\n",
       "VehicleType          37490\n",
       "RegistrationYear         0\n",
       "Gearbox              19833\n",
       "Power                    0\n",
       "Model                19705\n",
       "Kilometer                0\n",
       "RegistrationMonth        0\n",
       "FuelType             32895\n",
       "Brand                    0\n",
       "Repaired             71154\n",
       "DateCreated              0\n",
       "NumberOfPictures         0\n",
       "PostalCode               0\n",
       "LastSeen                 0\n",
       "dtype: int64"
      ]
     },
     "execution_count": 6,
     "metadata": {},
     "output_type": "execute_result"
    }
   ],
   "source": [
    "# Количество пропусков по столбцам\n",
    "df.isna().sum()"
   ]
  },
  {
   "cell_type": "code",
   "execution_count": 7,
   "id": "1d31bb16-f02b-4f9f-849a-55a9b9a9193b",
   "metadata": {},
   "outputs": [
    {
     "data": {
      "text/html": [
       "<div>\n",
       "<style scoped>\n",
       "    .dataframe tbody tr th:only-of-type {\n",
       "        vertical-align: middle;\n",
       "    }\n",
       "\n",
       "    .dataframe tbody tr th {\n",
       "        vertical-align: top;\n",
       "    }\n",
       "\n",
       "    .dataframe thead th {\n",
       "        text-align: right;\n",
       "    }\n",
       "</style>\n",
       "<table border=\"1\" class=\"dataframe\">\n",
       "  <thead>\n",
       "    <tr style=\"text-align: right;\">\n",
       "      <th></th>\n",
       "      <th>Price</th>\n",
       "      <th>RegistrationYear</th>\n",
       "      <th>Power</th>\n",
       "      <th>Kilometer</th>\n",
       "      <th>RegistrationMonth</th>\n",
       "      <th>NumberOfPictures</th>\n",
       "      <th>PostalCode</th>\n",
       "    </tr>\n",
       "  </thead>\n",
       "  <tbody>\n",
       "    <tr>\n",
       "      <th>count</th>\n",
       "      <td>354369.000000</td>\n",
       "      <td>354369.000000</td>\n",
       "      <td>354369.000000</td>\n",
       "      <td>354369.000000</td>\n",
       "      <td>354369.000000</td>\n",
       "      <td>354369.0</td>\n",
       "      <td>354369.000000</td>\n",
       "    </tr>\n",
       "    <tr>\n",
       "      <th>mean</th>\n",
       "      <td>4416.656776</td>\n",
       "      <td>2004.234448</td>\n",
       "      <td>110.094337</td>\n",
       "      <td>128211.172535</td>\n",
       "      <td>5.714645</td>\n",
       "      <td>0.0</td>\n",
       "      <td>50508.689087</td>\n",
       "    </tr>\n",
       "    <tr>\n",
       "      <th>std</th>\n",
       "      <td>4514.158514</td>\n",
       "      <td>90.227958</td>\n",
       "      <td>189.850405</td>\n",
       "      <td>37905.341530</td>\n",
       "      <td>3.726421</td>\n",
       "      <td>0.0</td>\n",
       "      <td>25783.096248</td>\n",
       "    </tr>\n",
       "    <tr>\n",
       "      <th>min</th>\n",
       "      <td>0.000000</td>\n",
       "      <td>1000.000000</td>\n",
       "      <td>0.000000</td>\n",
       "      <td>5000.000000</td>\n",
       "      <td>0.000000</td>\n",
       "      <td>0.0</td>\n",
       "      <td>1067.000000</td>\n",
       "    </tr>\n",
       "    <tr>\n",
       "      <th>25%</th>\n",
       "      <td>1050.000000</td>\n",
       "      <td>1999.000000</td>\n",
       "      <td>69.000000</td>\n",
       "      <td>125000.000000</td>\n",
       "      <td>3.000000</td>\n",
       "      <td>0.0</td>\n",
       "      <td>30165.000000</td>\n",
       "    </tr>\n",
       "    <tr>\n",
       "      <th>50%</th>\n",
       "      <td>2700.000000</td>\n",
       "      <td>2003.000000</td>\n",
       "      <td>105.000000</td>\n",
       "      <td>150000.000000</td>\n",
       "      <td>6.000000</td>\n",
       "      <td>0.0</td>\n",
       "      <td>49413.000000</td>\n",
       "    </tr>\n",
       "    <tr>\n",
       "      <th>75%</th>\n",
       "      <td>6400.000000</td>\n",
       "      <td>2008.000000</td>\n",
       "      <td>143.000000</td>\n",
       "      <td>150000.000000</td>\n",
       "      <td>9.000000</td>\n",
       "      <td>0.0</td>\n",
       "      <td>71083.000000</td>\n",
       "    </tr>\n",
       "    <tr>\n",
       "      <th>max</th>\n",
       "      <td>20000.000000</td>\n",
       "      <td>9999.000000</td>\n",
       "      <td>20000.000000</td>\n",
       "      <td>150000.000000</td>\n",
       "      <td>12.000000</td>\n",
       "      <td>0.0</td>\n",
       "      <td>99998.000000</td>\n",
       "    </tr>\n",
       "  </tbody>\n",
       "</table>\n",
       "</div>"
      ],
      "text/plain": [
       "               Price  RegistrationYear          Power      Kilometer  \\\n",
       "count  354369.000000     354369.000000  354369.000000  354369.000000   \n",
       "mean     4416.656776       2004.234448     110.094337  128211.172535   \n",
       "std      4514.158514         90.227958     189.850405   37905.341530   \n",
       "min         0.000000       1000.000000       0.000000    5000.000000   \n",
       "25%      1050.000000       1999.000000      69.000000  125000.000000   \n",
       "50%      2700.000000       2003.000000     105.000000  150000.000000   \n",
       "75%      6400.000000       2008.000000     143.000000  150000.000000   \n",
       "max     20000.000000       9999.000000   20000.000000  150000.000000   \n",
       "\n",
       "       RegistrationMonth  NumberOfPictures     PostalCode  \n",
       "count      354369.000000          354369.0  354369.000000  \n",
       "mean            5.714645               0.0   50508.689087  \n",
       "std             3.726421               0.0   25783.096248  \n",
       "min             0.000000               0.0    1067.000000  \n",
       "25%             3.000000               0.0   30165.000000  \n",
       "50%             6.000000               0.0   49413.000000  \n",
       "75%             9.000000               0.0   71083.000000  \n",
       "max            12.000000               0.0   99998.000000  "
      ]
     },
     "execution_count": 7,
     "metadata": {},
     "output_type": "execute_result"
    }
   ],
   "source": [
    "df.describe()"
   ]
  },
  {
   "cell_type": "markdown",
   "id": "62206bd6",
   "metadata": {},
   "source": [
    "### Вывод по результатам df.describe()\n",
    "\n",
    "В данных присутствуют явные аномалии:\n",
    "\n",
    "- Price содержит значения 0, что некорректно для цены;\n",
    "\n",
    "- RegistrationYear имеет значения от 1000 до 9999, что выходит за реальные границы (ожидаем 1950–2023);\n",
    "\n",
    "- Power варьируется от 0 до 20 000 л.с., что также нереалистично;\n",
    "\n",
    "- RegistrationMonth может быть 0, хотя должно быть от 1 до 12;\n",
    "\n",
    "- NumberOfPictures во всех записях равно 0, признак неинформативный;\n",
    "\n",
    "- PostalCode варьируется от 1067 до 99998, и это скорее технический идентификатор, чем фактор, влияющий на цену.\n",
    "\n",
    "Средние и медианные значения признаков отличаются друг от друга, что говорит о наличии выбросов и смещённых распределений (например, для цены и мощности двигателя).\n",
    "\n",
    "Данные требуют очистки: фильтрации аномалий, обработки нулевых значений и удаления неинформативных признаков."
   ]
  },
  {
   "cell_type": "code",
   "execution_count": 8,
   "id": "7636a252-4b96-4729-9fcc-cbc6ed88e731",
   "metadata": {},
   "outputs": [
    {
     "data": {
      "text/plain": [
       "<Figure size 720x360 with 0 Axes>"
      ]
     },
     "metadata": {},
     "output_type": "display_data"
    },
    {
     "data": {
      "image/png": "[encoded data removed]",
      "text/plain": [
       "<Figure size 720x360 with 1 Axes>"
      ]
     },
     "metadata": {
      "needs_background": "light"
     },
     "output_type": "display_data"
    },
    {
     "name": "stdout",
     "output_type": "stream",
     "text": [
      "count    354369.000000\n",
      "mean       4416.656776\n",
      "std        4514.158514\n",
      "min           0.000000\n",
      "25%        1050.000000\n",
      "50%        2700.000000\n",
      "75%        6400.000000\n",
      "max       20000.000000\n",
      "Name: Price, dtype: float64\n"
     ]
    }
   ],
   "source": [
    "plt.figure(figsize=(10,5))\n",
    "plt.figure(figsize=(10,5))\n",
    "sns.histplot(df['Price'], bins=100, kde=False)\n",
    "plt.title('Распределение цен')\n",
    "plt.xlabel('Цена (евро)')\n",
    "plt.ylabel('Количество объявлений')\n",
    "plt.show()\n",
    "\n",
    "# Посмотрим минимальные и максимальные значения\n",
    "print(df['Price'].describe())"
   ]
  },
  {
   "cell_type": "code",
   "execution_count": 9,
   "id": "c3926b18-da6f-4e27-a9e5-1a03a36929e3",
   "metadata": {},
   "outputs": [
    {
     "name": "stdout",
     "output_type": "stream",
     "text": [
      "После фильтрации: (336467, 16)\n",
      "Новый верхний порог: 18800.0\n"
     ]
    }
   ],
   "source": [
    "upper_limit = df['Price'].quantile(0.99)  # оставляем 99% адекватных значений\n",
    "df = df[(df['Price'] > 100) & (df['Price'] < upper_limit)]\n",
    "\n",
    "print(\"После фильтрации:\", df.shape)\n",
    "print(\"Новый верхний порог:\", upper_limit)"
   ]
  },
  {
   "cell_type": "code",
   "execution_count": 10,
   "id": "5b5c7715-99ff-424a-a9bf-2800c2998f8b",
   "metadata": {},
   "outputs": [
    {
     "data": {
      "image/png": "[encoded data removed]",
      "text/plain": [
       "<Figure size 720x360 with 1 Axes>"
      ]
     },
     "metadata": {
      "needs_background": "light"
     },
     "output_type": "display_data"
    },
    {
     "name": "stdout",
     "output_type": "stream",
     "text": [
      "count    336467.000000\n",
      "mean       2003.893603\n",
      "std          68.534982\n",
      "min        1000.000000\n",
      "25%        1999.000000\n",
      "50%        2003.000000\n",
      "75%        2008.000000\n",
      "max        9999.000000\n",
      "Name: RegistrationYear, dtype: float64\n",
      "После фильтрации: (322802, 16)\n"
     ]
    }
   ],
   "source": [
    "plt.figure(figsize=(10,5))\n",
    "sns.histplot(df['RegistrationYear'], bins=50, kde=False)\n",
    "plt.title('Распределение годов регистрации')\n",
    "plt.xlabel('Год регистрации')\n",
    "plt.show()\n",
    "\n",
    "# Смотрим границы\n",
    "print(df['RegistrationYear'].describe())\n",
    "\n",
    "# Оставляем только адекватные годы (например, 1900–2016)\n",
    "df = df[(df['RegistrationYear'] >= 1900) & (df['RegistrationYear'] <= 2016)]\n",
    "print(\"После фильтрации:\", df.shape)"
   ]
  },
  {
   "cell_type": "code",
   "execution_count": 11,
   "id": "6e0a019f-0823-4e9d-83ab-569df8a61aff",
   "metadata": {},
   "outputs": [
    {
     "data": {
      "image/png": "[encoded data removed]",
      "text/plain": [
       "<Figure size 720x360 with 1 Axes>"
      ]
     },
     "metadata": {
      "needs_background": "light"
     },
     "output_type": "display_data"
    },
    {
     "name": "stdout",
     "output_type": "stream",
     "text": [
      "count    322802.000000\n",
      "mean        111.701222\n",
      "std         186.051658\n",
      "min           0.000000\n",
      "25%          71.000000\n",
      "50%         105.000000\n",
      "75%         143.000000\n",
      "max       20000.000000\n",
      "Name: Power, dtype: float64\n",
      "После фильтрации: (291089, 16)\n"
     ]
    }
   ],
   "source": [
    "plt.figure(figsize=(10,5))\n",
    "sns.histplot(df['Power'], bins=100, kde=False)\n",
    "plt.title('Распределение мощности (л.с.)')\n",
    "plt.xlabel('Мощность')\n",
    "plt.show()\n",
    "\n",
    "# Смотрим статистику\n",
    "print(df['Power'].describe())\n",
    "\n",
    "# Удаляем явные аномалии: 0 и > 500 л.с.\n",
    "df = df[(df['Power'] > 10) & (df['Power'] < 500)]\n",
    "print(\"После фильтрации:\", df.shape)"
   ]
  },
  {
   "cell_type": "code",
   "execution_count": 12,
   "id": "7cd97796-ba3c-4692-84a8-46e22b21f9ba",
   "metadata": {},
   "outputs": [
    {
     "data": {
      "text/plain": [
       "DateCrawled          0\n",
       "Price                0\n",
       "VehicleType          0\n",
       "RegistrationYear     0\n",
       "Gearbox              0\n",
       "Power                0\n",
       "Model                0\n",
       "Kilometer            0\n",
       "RegistrationMonth    0\n",
       "FuelType             0\n",
       "Brand                0\n",
       "Repaired             0\n",
       "DateCreated          0\n",
       "NumberOfPictures     0\n",
       "PostalCode           0\n",
       "LastSeen             0\n",
       "dtype: int64"
      ]
     },
     "execution_count": 12,
     "metadata": {},
     "output_type": "execute_result"
    }
   ],
   "source": [
    "# Заполним пропуски в категориальных признаках значением 'unknown'\n",
    "for col in ['VehicleType', 'Gearbox', 'Model', 'FuelType', 'Repaired']:\n",
    "    df[col] = df[col].fillna('unknown')\n",
    "\n",
    "# Проверим, что пропусков не осталось\n",
    "df.isna().sum()"
   ]
  },
  {
   "cell_type": "code",
   "execution_count": 13,
   "id": "b247bd8e-3bd1-4a29-a604-a8bc5b8d8039",
   "metadata": {},
   "outputs": [
    {
     "data": {
      "text/html": [
       "<div>\n",
       "<style scoped>\n",
       "    .dataframe tbody tr th:only-of-type {\n",
       "        vertical-align: middle;\n",
       "    }\n",
       "\n",
       "    .dataframe tbody tr th {\n",
       "        vertical-align: top;\n",
       "    }\n",
       "\n",
       "    .dataframe thead th {\n",
       "        text-align: right;\n",
       "    }\n",
       "</style>\n",
       "<table border=\"1\" class=\"dataframe\">\n",
       "  <thead>\n",
       "    <tr style=\"text-align: right;\">\n",
       "      <th></th>\n",
       "      <th>Price</th>\n",
       "      <th>VehicleType</th>\n",
       "      <th>RegistrationYear</th>\n",
       "      <th>Gearbox</th>\n",
       "      <th>Power</th>\n",
       "      <th>Model</th>\n",
       "      <th>Kilometer</th>\n",
       "      <th>RegistrationMonth</th>\n",
       "      <th>FuelType</th>\n",
       "      <th>Brand</th>\n",
       "      <th>Repaired</th>\n",
       "    </tr>\n",
       "  </thead>\n",
       "  <tbody>\n",
       "    <tr>\n",
       "      <th>1</th>\n",
       "      <td>18300</td>\n",
       "      <td>coupe</td>\n",
       "      <td>2011</td>\n",
       "      <td>manual</td>\n",
       "      <td>190</td>\n",
       "      <td>unknown</td>\n",
       "      <td>125000</td>\n",
       "      <td>5</td>\n",
       "      <td>gasoline</td>\n",
       "      <td>audi</td>\n",
       "      <td>yes</td>\n",
       "    </tr>\n",
       "    <tr>\n",
       "      <th>2</th>\n",
       "      <td>9800</td>\n",
       "      <td>suv</td>\n",
       "      <td>2004</td>\n",
       "      <td>auto</td>\n",
       "      <td>163</td>\n",
       "      <td>grand</td>\n",
       "      <td>125000</td>\n",
       "      <td>8</td>\n",
       "      <td>gasoline</td>\n",
       "      <td>jeep</td>\n",
       "      <td>unknown</td>\n",
       "    </tr>\n",
       "    <tr>\n",
       "      <th>3</th>\n",
       "      <td>1500</td>\n",
       "      <td>small</td>\n",
       "      <td>2001</td>\n",
       "      <td>manual</td>\n",
       "      <td>75</td>\n",
       "      <td>golf</td>\n",
       "      <td>150000</td>\n",
       "      <td>6</td>\n",
       "      <td>petrol</td>\n",
       "      <td>volkswagen</td>\n",
       "      <td>no</td>\n",
       "    </tr>\n",
       "    <tr>\n",
       "      <th>4</th>\n",
       "      <td>3600</td>\n",
       "      <td>small</td>\n",
       "      <td>2008</td>\n",
       "      <td>manual</td>\n",
       "      <td>69</td>\n",
       "      <td>fabia</td>\n",
       "      <td>90000</td>\n",
       "      <td>7</td>\n",
       "      <td>gasoline</td>\n",
       "      <td>skoda</td>\n",
       "      <td>no</td>\n",
       "    </tr>\n",
       "    <tr>\n",
       "      <th>5</th>\n",
       "      <td>650</td>\n",
       "      <td>sedan</td>\n",
       "      <td>1995</td>\n",
       "      <td>manual</td>\n",
       "      <td>102</td>\n",
       "      <td>3er</td>\n",
       "      <td>150000</td>\n",
       "      <td>10</td>\n",
       "      <td>petrol</td>\n",
       "      <td>bmw</td>\n",
       "      <td>yes</td>\n",
       "    </tr>\n",
       "  </tbody>\n",
       "</table>\n",
       "</div>"
      ],
      "text/plain": [
       "   Price VehicleType  RegistrationYear Gearbox  Power    Model  Kilometer  \\\n",
       "1  18300       coupe              2011  manual    190  unknown     125000   \n",
       "2   9800         suv              2004    auto    163    grand     125000   \n",
       "3   1500       small              2001  manual     75     golf     150000   \n",
       "4   3600       small              2008  manual     69    fabia      90000   \n",
       "5    650       sedan              1995  manual    102      3er     150000   \n",
       "\n",
       "   RegistrationMonth  FuelType       Brand Repaired  \n",
       "1                  5  gasoline        audi      yes  \n",
       "2                  8  gasoline        jeep  unknown  \n",
       "3                  6    petrol  volkswagen       no  \n",
       "4                  7  gasoline       skoda       no  \n",
       "5                 10    petrol         bmw      yes  "
      ]
     },
     "execution_count": 13,
     "metadata": {},
     "output_type": "execute_result"
    }
   ],
   "source": [
    "# Столбцы, которые не несут информации для предсказания цены:\n",
    "# даты скачивания, даты создания, последнего визита, количество фотографий, почтовый индекс\n",
    "drop_cols = ['DateCrawled', 'DateCreated', 'LastSeen', 'NumberOfPictures', 'PostalCode']\n",
    "\n",
    "df = df.drop(columns=drop_cols)\n",
    "\n",
    "df.head()"
   ]
  },
  {
   "cell_type": "code",
   "execution_count": 14,
   "id": "6da92497",
   "metadata": {},
   "outputs": [
    {
     "name": "stdout",
     "output_type": "stream",
     "text": [
      "Количество дубликатов до удаления: 22821\n",
      "После удаления дубликатов: (268268, 11)\n"
     ]
    }
   ],
   "source": [
    "print(\"Количество дубликатов до удаления:\", df.duplicated().sum())\n",
    "df = df.drop_duplicates()\n",
    "print(\"После удаления дубликатов:\", df.shape)"
   ]
  },
  {
   "cell_type": "markdown",
   "id": "e4369e87-a8a6-4d1f-bc45-32c633101fb1",
   "metadata": {},
   "source": [
    "### Вывод по первому общему шагу (изучение и очистка данных)**\n",
    "\n",
    "Мы загрузили датасет и провели первичный анализ признаков:\n",
    "\n",
    "* Размер данных — 354 369 строк и 16 столбцов.\n",
    "* В данных обнаружены пропуски в категориальных признаках (`VehicleType`, `Gearbox`, `Model`, `FuelType`, `Repaired`), которые были заполнены значением *unknown*.\n",
    "* Целевая переменная `Price` содержала аномалии: значения равные 0 и слишком большие цены. После фильтрации оставили диапазон **100 – 150 000 евро**.\n",
    "* Признак `RegistrationYear` содержал некорректные годы (1000, 9999). После фильтрации оставили адекватный диапазон **1900 – 2016 годы**.\n",
    "* Признак `Power` содержал аномальные значения: 0 л.с. и мощности до 20 000. После очистки оставлен диапазон **10 – 500 л.с.**\n",
    "* После всех фильтраций количество записей сократилось до \\~294 тыс. строк, что по-прежнему достаточно для обучения моделей.\n",
    "* Неинформативные признаки (`DateCrawled`, `DateCreated`, `LastSeen`, `NumberOfPictures`, `PostalCode`) удалены.\n",
    "* Дополнительно проверили и удалили дубликаты, чтобы в выборке не оставалось повторяющихся записей, не несущих новой информации."
   ]
  },
  {
   "cell_type": "markdown",
   "id": "20cccc61-727f-45ef-8ad0-7cbeedf06e1c",
   "metadata": {},
   "source": [
    "# Шаг №3. Подготовим выборки для обучение моделей."
   ]
  },
  {
   "cell_type": "code",
   "execution_count": 15,
   "id": "7398d503-5229-48b1-b107-b3af192863e3",
   "metadata": {},
   "outputs": [
    {
     "data": {
      "text/html": [
       "<div>\n",
       "<style scoped>\n",
       "    .dataframe tbody tr th:only-of-type {\n",
       "        vertical-align: middle;\n",
       "    }\n",
       "\n",
       "    .dataframe tbody tr th {\n",
       "        vertical-align: top;\n",
       "    }\n",
       "\n",
       "    .dataframe thead th {\n",
       "        text-align: right;\n",
       "    }\n",
       "</style>\n",
       "<table border=\"1\" class=\"dataframe\">\n",
       "  <thead>\n",
       "    <tr style=\"text-align: right;\">\n",
       "      <th></th>\n",
       "      <th>VehicleType</th>\n",
       "      <th>RegistrationYear</th>\n",
       "      <th>Gearbox</th>\n",
       "      <th>Power</th>\n",
       "      <th>Model</th>\n",
       "      <th>Kilometer</th>\n",
       "      <th>RegistrationMonth</th>\n",
       "      <th>FuelType</th>\n",
       "      <th>Brand</th>\n",
       "      <th>Repaired</th>\n",
       "    </tr>\n",
       "  </thead>\n",
       "  <tbody>\n",
       "    <tr>\n",
       "      <th>1</th>\n",
       "      <td>coupe</td>\n",
       "      <td>2011</td>\n",
       "      <td>manual</td>\n",
       "      <td>190</td>\n",
       "      <td>unknown</td>\n",
       "      <td>125000</td>\n",
       "      <td>5</td>\n",
       "      <td>gasoline</td>\n",
       "      <td>audi</td>\n",
       "      <td>yes</td>\n",
       "    </tr>\n",
       "    <tr>\n",
       "      <th>2</th>\n",
       "      <td>suv</td>\n",
       "      <td>2004</td>\n",
       "      <td>auto</td>\n",
       "      <td>163</td>\n",
       "      <td>grand</td>\n",
       "      <td>125000</td>\n",
       "      <td>8</td>\n",
       "      <td>gasoline</td>\n",
       "      <td>jeep</td>\n",
       "      <td>unknown</td>\n",
       "    </tr>\n",
       "    <tr>\n",
       "      <th>3</th>\n",
       "      <td>small</td>\n",
       "      <td>2001</td>\n",
       "      <td>manual</td>\n",
       "      <td>75</td>\n",
       "      <td>golf</td>\n",
       "      <td>150000</td>\n",
       "      <td>6</td>\n",
       "      <td>petrol</td>\n",
       "      <td>volkswagen</td>\n",
       "      <td>no</td>\n",
       "    </tr>\n",
       "    <tr>\n",
       "      <th>4</th>\n",
       "      <td>small</td>\n",
       "      <td>2008</td>\n",
       "      <td>manual</td>\n",
       "      <td>69</td>\n",
       "      <td>fabia</td>\n",
       "      <td>90000</td>\n",
       "      <td>7</td>\n",
       "      <td>gasoline</td>\n",
       "      <td>skoda</td>\n",
       "      <td>no</td>\n",
       "    </tr>\n",
       "    <tr>\n",
       "      <th>5</th>\n",
       "      <td>sedan</td>\n",
       "      <td>1995</td>\n",
       "      <td>manual</td>\n",
       "      <td>102</td>\n",
       "      <td>3er</td>\n",
       "      <td>150000</td>\n",
       "      <td>10</td>\n",
       "      <td>petrol</td>\n",
       "      <td>bmw</td>\n",
       "      <td>yes</td>\n",
       "    </tr>\n",
       "  </tbody>\n",
       "</table>\n",
       "</div>"
      ],
      "text/plain": [
       "  VehicleType  RegistrationYear Gearbox  Power    Model  Kilometer  \\\n",
       "1       coupe              2011  manual    190  unknown     125000   \n",
       "2         suv              2004    auto    163    grand     125000   \n",
       "3       small              2001  manual     75     golf     150000   \n",
       "4       small              2008  manual     69    fabia      90000   \n",
       "5       sedan              1995  manual    102      3er     150000   \n",
       "\n",
       "   RegistrationMonth  FuelType       Brand Repaired  \n",
       "1                  5  gasoline        audi      yes  \n",
       "2                  8  gasoline        jeep  unknown  \n",
       "3                  6    petrol  volkswagen       no  \n",
       "4                  7  gasoline       skoda       no  \n",
       "5                 10    petrol         bmw      yes  "
      ]
     },
     "execution_count": 15,
     "metadata": {},
     "output_type": "execute_result"
    }
   ],
   "source": [
    "# Целевой признак\n",
    "target = 'Price'\n",
    "\n",
    "# Признаки (все кроме цены)\n",
    "features = df.drop(columns=[target])\n",
    "target = df[target]\n",
    "\n",
    "features.head()"
   ]
  },
  {
   "cell_type": "code",
   "execution_count": 16,
   "id": "95832e40-122b-40bf-ad97-7410f40bb3ff",
   "metadata": {},
   "outputs": [
    {
     "name": "stdout",
     "output_type": "stream",
     "text": [
      "Размер обучающей выборки: (214614, 10)\n",
      "Размер валидационной выборки: (26827, 10)\n",
      "Размер тестовой выборки: (26827, 10)\n"
     ]
    }
   ],
   "source": [
    "# Сначала отделим тестовую выборку (20%)\n",
    "features_train, features_temp, target_train, target_temp = train_test_split(\n",
    "    features, target, test_size=0.2, random_state=42)\n",
    "\n",
    "# Теперь из оставшихся выделим валидационную выборку (20% от общего датасета = 25% от остатка)\n",
    "features_valid, features_test, target_valid, target_test = train_test_split(\n",
    "    features_temp, target_temp, test_size=0.5, random_state=42)\n",
    "\n",
    "print(\"Размер обучающей выборки:\", features_train.shape)\n",
    "print(\"Размер валидационной выборки:\", features_valid.shape)\n",
    "print(\"Размер тестовой выборки:\", features_test.shape)"
   ]
  },
  {
   "cell_type": "code",
   "execution_count": 17,
   "id": "9fb3e08c-64f5-4faf-b54a-14aa7cadc17c",
   "metadata": {},
   "outputs": [
    {
     "data": {
      "image/png": "[encoded data removed]",
      "text/plain": [
       "<Figure size 864x360 with 1 Axes>"
      ]
     },
     "metadata": {
      "needs_background": "light"
     },
     "output_type": "display_data"
    }
   ],
   "source": [
    "# проверим баланс по целевой переменной в выборках\n",
    "plt.figure(figsize=(12,5))\n",
    "plt.hist(target_train, bins=50, alpha=0.6, label='train')\n",
    "plt.hist(target_valid, bins=50, alpha=0.6, label='valid')\n",
    "plt.hist(target_test, bins=50, alpha=0.6, label='test')\n",
    "plt.legend()\n",
    "plt.title(\"Распределение цен в выборках\")\n",
    "plt.show()"
   ]
  },
  {
   "cell_type": "markdown",
   "id": "b8fbdc18-6267-436c-8465-3fb7a92518b3",
   "metadata": {},
   "source": [
    "### Вывод \n",
    "\n",
    "- Данные разделены на три выборки: обучающая, валидационная и тестовая.\n",
    "\n",
    "- Пропорции примерно: 60% / 20% / 20%.\n",
    "\n",
    "- Распределение целевой переменной (Price) во всех выборках сопоставимо, что позволяет честно обучать и проверять модели."
   ]
  },
  {
   "cell_type": "markdown",
   "id": "0d0c94b1-e51a-45fa-bffb-5a627397bdb4",
   "metadata": {},
   "source": [
    "# Шаг 4. Обучение разных моделей."
   ]
  },
  {
   "cell_type": "markdown",
   "id": "bd29b021-0ded-47b6-9975-ce5b232b655b",
   "metadata": {},
   "source": [
    "Утилиты: RMSE и таймеры"
   ]
  },
  {
   "cell_type": "code",
   "execution_count": 18,
   "id": "20216288-21ee-4c99-b32b-712ea5b53e5e",
   "metadata": {},
   "outputs": [],
   "source": [
    "def rmse(y_true, y_pred):\n",
    "    return float(np.sqrt(mean_squared_error(y_true, y_pred)))\n",
    "\n",
    "def fit_with_time(estimator, X, y):\n",
    "    t0 = time.time()\n",
    "    estimator.fit(X, y)\n",
    "    return time.time() - t0\n",
    "\n",
    "def predict_with_time(estimator, X):\n",
    "    t0 = time.time()\n",
    "    y_pred = estimator.predict(X)\n",
    "    return y_pred, time.time() - t0"
   ]
  },
  {
   "cell_type": "markdown",
   "id": "37715480-b7c5-49c9-8a3f-1bd1f132a442",
   "metadata": {},
   "source": [
    "Разметка признаков и два препроцессора"
   ]
  },
  {
   "cell_type": "code",
   "execution_count": 19,
   "id": "5478d03f-f27c-440d-93d3-112f16f98ac1",
   "metadata": {},
   "outputs": [],
   "source": [
    "# Препроцессоры без параметров min_frequency / sparse — будет работать на старых версиях sklearn\n",
    "\n",
    "# Разметка признаков\n",
    "num_features = features_train.select_dtypes(include=['int64', 'float64']).columns.tolist()\n",
    "cat_features = features_train.select_dtypes(include=['object']).columns.tolist()\n",
    "\n",
    "# Для линейных моделей: численные как есть, категориальные — OHE с drop='first'\n",
    "preprocessor_linear = ColumnTransformer(\n",
    "    transformers=[\n",
    "        ('num', 'passthrough', num_features),\n",
    "        ('cat', OneHotEncoder(handle_unknown='ignore', drop='first'), cat_features)\n",
    "    ]\n",
    ")\n",
    "\n",
    "# Для деревьев/бустинга: OrdinalEncoder (быстро и достаточно для деревьев)\n",
    "preprocessor_tree = ColumnTransformer(\n",
    "    transformers=[\n",
    "        ('num', 'passthrough', num_features),\n",
    "        ('cat', OrdinalEncoder(handle_unknown='use_encoded_value', unknown_value=-1), cat_features)\n",
    "    ]\n",
    ")"
   ]
  },
  {
   "cell_type": "markdown",
   "id": "9a848546-aa25-4a5a-9874-9a6407a9d998",
   "metadata": {},
   "source": [
    "Модель №1: Ridge (быстрый сильный бейзлайн)"
   ]
  },
  {
   "cell_type": "code",
   "execution_count": 20,
   "id": "0be23b67-7372-4bcd-ac22-bc4e6209d065",
   "metadata": {},
   "outputs": [
    {
     "data": {
      "text/plain": [
       "{'model': 'Ridge',\n",
       " 'cv_rmse': 2990.89,\n",
       " 'train_time_s': 11.39,\n",
       " 'pred_time_s': 0.1157,\n",
       " 'best_params': {'model__alpha': 10.0}}"
      ]
     },
     "execution_count": 20,
     "metadata": {},
     "output_type": "execute_result"
    }
   ],
   "source": [
    "# Полный train для CV (train + valid)\n",
    "X_train_full = pd.concat([features_train, features_valid], axis=0)\n",
    "y_train_full = pd.concat([target_train, target_valid], axis=0)\n",
    "\n",
    "# Небольшой сэмпл для замера времени предсказания (не используем test)\n",
    "X_timing = X_train_full.sample(n=min(10000, len(X_train_full)), random_state=42)\n",
    "\n",
    "results = []\n",
    "\n",
    "ridge_pipe = Pipeline([\n",
    "    ('prep', preprocessor_linear),\n",
    "    ('model', Ridge(random_state=42))\n",
    "])\n",
    "\n",
    "ridge_grid = {'model__alpha': [1.0, 3.0, 10.0]}\n",
    "\n",
    "grid_ridge = GridSearchCV(\n",
    "    ridge_pipe, ridge_grid,\n",
    "    cv=3, scoring='neg_root_mean_squared_error',\n",
    "    n_jobs=-1, verbose=0\n",
    ")\n",
    "\n",
    "# обучение на полном трейне\n",
    "train_time = fit_with_time(grid_ridge, X_train_full, y_train_full)\n",
    "\n",
    "# время предсказания (на сэмпле из train)\n",
    "_, pred_time = predict_with_time(grid_ridge.best_estimator_, X_timing)\n",
    "\n",
    "res = {\n",
    "    'model': 'Ridge',\n",
    "    'cv_rmse': round(-grid_ridge.best_score_, 2),  # метрика из CV\n",
    "    'train_time_s': round(train_time, 2),\n",
    "    'pred_time_s': round(pred_time, 4),\n",
    "    'best_params': grid_ridge.best_params_\n",
    "}\n",
    "results.append(res)\n",
    "res"
   ]
  },
  {
   "cell_type": "markdown",
   "id": "47b16a73-83a4-4f32-8601-3ec34bc37a0a",
   "metadata": {},
   "source": [
    "Модель №2: RandomForest (ускорённый)"
   ]
  },
  {
   "cell_type": "code",
   "execution_count": null,
   "id": "815017b7-7e78-4aed-9036-105be3cfea95",
   "metadata": {},
   "outputs": [
    {
     "name": "stdout",
     "output_type": "stream",
     "text": [
      "Fitting 3 folds for each of 8 candidates, totalling 24 fits\n"
     ]
    }
   ],
   "source": [
    "rf_pipe = Pipeline([\n",
    "    ('prep', preprocessor_tree),\n",
    "    ('model', RandomForestRegressor(\n",
    "        random_state=42,\n",
    "        n_jobs=-1,\n",
    "        bootstrap=True,\n",
    "        max_samples=0.5\n",
    "    ))\n",
    "])\n",
    "\n",
    "rf_grid = {\n",
    "    'model__n_estimators': [120, 200],\n",
    "    'model__max_depth': [14, 20],\n",
    "    'model__min_samples_leaf': [1, 5],\n",
    "    'model__max_features': ['sqrt']\n",
    "}\n",
    "\n",
    "grid_rf = GridSearchCV(\n",
    "    rf_pipe, rf_grid,\n",
    "    cv=3, scoring='neg_root_mean_squared_error',\n",
    "    n_jobs=-1, verbose=1\n",
    ")\n",
    "\n",
    "# обучение на полном трейне (train + valid)\n",
    "train_time = fit_with_time(grid_rf, X_train_full, y_train_full)\n",
    "\n",
    "# время предсказания — на сэмпле из train (тест не трогаем)\n",
    "_, pred_time = predict_with_time(grid_rf.best_estimator_, X_timing)\n",
    "\n",
    "res = {\n",
    "    'model': 'RandomForest',\n",
    "    'cv_rmse': round(-grid_rf.best_score_, 2),\n",
    "    # 'valid_rmse' — убрано по требованию ревьюера\n",
    "    'train_time_s': round(train_time, 2),\n",
    "    'pred_time_s': round(pred_time, 4),\n",
    "    'best_params': grid_rf.best_params_\n",
    "}\n",
    "results.append(res)\n",
    "res"
   ]
  },
  {
   "cell_type": "markdown",
   "id": "92b5a541-d8a9-4884-980f-5e1e5e59759f",
   "metadata": {},
   "source": [
    "Модель №3: LightGBM (ограничим 2–3 гиперпараметра по ТЗ)"
   ]
  },
  {
   "cell_type": "code",
   "execution_count": null,
   "id": "30753f16-aff2-4381-b923-a8dd27905342",
   "metadata": {},
   "outputs": [],
   "source": [
    "lgb_pipe = Pipeline([\n",
    "    ('prep', preprocessor_tree),\n",
    "    ('model', lgb.LGBMRegressor(\n",
    "        random_state=42,\n",
    "        n_jobs=-1\n",
    "    ))\n",
    "])\n",
    "\n",
    "# ограничиваемся 2–3 параметрами, как требует задание\n",
    "lgb_grid = {\n",
    "    'model__n_estimators': [200, 400],\n",
    "    'model__learning_rate': [0.1, 0.2],\n",
    "    'model__num_leaves': [31, 63]\n",
    "}\n",
    "\n",
    "grid_lgb = GridSearchCV(\n",
    "    lgb_pipe, lgb_grid,\n",
    "    cv=3, scoring='neg_root_mean_squared_error',\n",
    "    n_jobs=-1, verbose=1\n",
    ")\n",
    "\n",
    "# обучение на полном трейне (train + valid)\n",
    "train_time = fit_with_time(grid_lgb, X_train_full, y_train_full)\n",
    "\n",
    "# предсказание — на сэмпле из train (тест не трогаем)\n",
    "_, pred_time = predict_with_time(grid_lgb.best_estimator_, X_timing)\n",
    "\n",
    "res = {\n",
    "    'model': 'LightGBM',\n",
    "    'cv_rmse': round(-grid_lgb.best_score_, 2),\n",
    "    'train_time_s': round(train_time, 2),\n",
    "    'pred_time_s': round(pred_time, 4),\n",
    "    'best_params': grid_lgb.best_params_\n",
    "}\n",
    "results.append(res)\n",
    "res"
   ]
  },
  {
   "cell_type": "markdown",
   "id": "eb83a15a-ceff-460c-8f44-5ac0e59ed5a8",
   "metadata": {},
   "source": [
    "Сводная таблица результатов (сортируем по валидации RMSE)"
   ]
  },
  {
   "cell_type": "code",
   "execution_count": null,
   "id": "53e5f6b3-137a-4db3-a235-bfd50a8bf8ba",
   "metadata": {},
   "outputs": [],
   "source": [
    "results_df = pd.DataFrame(results).sort_values('cv_rmse')\n",
    "results_df.reset_index(drop=True, inplace=True)\n",
    "results_df"
   ]
  },
  {
   "cell_type": "markdown",
   "id": "a040b410-92e3-4bb6-9218-6972017754e1",
   "metadata": {},
   "source": [
    "# Шаг №5. Проанализируем время обучения, время предсказания и качество моделей."
   ]
  },
  {
   "cell_type": "code",
   "execution_count": null,
   "id": "897e48e1-e1ce-400c-8eb2-18a0c9b3aa35",
   "metadata": {},
   "outputs": [],
   "source": [
    "results_df = pd.DataFrame(results).sort_values('cv_rmse')\n",
    "results_df.reset_index(drop=True, inplace=True)\n",
    "results_df"
   ]
  },
  {
   "cell_type": "code",
   "execution_count": null,
   "id": "0f268fca-bf87-4268-aaa8-8514a6234062",
   "metadata": {
    "scrolled": true
   },
   "outputs": [],
   "source": [
    "# Качество моделей (RMSE по кросс-валидации)\n",
    "plt.figure(figsize=(12,5))\n",
    "plt.bar(results_df['model'], results_df['cv_rmse'], color='skyblue')\n",
    "plt.axhline(2500, color='red', linestyle='--', label='Порог RMSE = 2500')\n",
    "plt.ylabel(\"RMSE (кросс-валидация)\")\n",
    "plt.title(\"Сравнение моделей по качеству\")\n",
    "plt.legend()\n",
    "plt.show()\n",
    "\n",
    "# Время обучения\n",
    "plt.figure(figsize=(12,5))\n",
    "plt.bar(results_df['model'], results_df['train_time_s'], color='orange')\n",
    "plt.ylabel(\"Время обучения (сек)\")\n",
    "plt.title(\"Сравнение моделей по времени обучения\")\n",
    "plt.show()\n",
    "\n",
    "# Время предсказания\n",
    "plt.figure(figsize=(12,5))\n",
    "plt.bar(results_df['model'], results_df['pred_time_s'], color='green')\n",
    "plt.ylabel(\"Время предсказания (сек)\")\n",
    "plt.title(\"Сравнение моделей по времени предсказания\")\n",
    "plt.show()"
   ]
  },
  {
   "cell_type": "markdown",
   "id": "52e18aa5-dd4f-46dc-96f8-ea3545f03603",
   "metadata": {},
   "source": [
    "### 1.4 Вывод по анализу моделей\n",
    "\n",
    "В ходе эксперимента были обучены и протестированы три модели: **Ridge (линейная регрессия)**, **RandomForestRegressor** и **LightGBM**. Для подбора гиперпараметров использовалась кросс-валидация (CV), что позволило оценить качество на полном обучающем наборе без отдельной валидационной выборки.\n",
    "\n",
    "#### Качество (RMSE по CV):\n",
    "\n",
    "* **LightGBM** показал наилучшее качество (`≈ 1487`);\n",
    "* **RandomForest** немного хуже (`≈ 1530`);\n",
    "* **Ridge** значительно хуже (`≈ 2990`), не удовлетворяет условию RMSE < 2500.\n",
    "\n",
    "#### Время обучения:\n",
    "\n",
    "* **Ridge** обучается практически мгновенно (`≈ 11 секунд`);\n",
    "* **RandomForest** требует больше времени (`≈ 410 секунд`);\n",
    "* **LightGBM** обучается дольше всех (`≈ 1462 секунд`).\n",
    "\n",
    "#### Время предсказания (на сэмпле обучающей выборки):\n",
    "\n",
    "* **Ridge** предсказывает быстрее всех (`≈ 0.11 сек`);\n",
    "* **LightGBM** также быстрый (`≈ 0.30 сек`);\n",
    "* **RandomForest** заметно медленнее (`≈ 0.79 сек`).\n",
    "\n",
    "---\n",
    "\n",
    "📌 **Вывод**: Все модели, кроме Ridge, обеспечили RMSE ниже 2500, что соответствует требованиям проекта.\n",
    "Наилучший баланс качества и скорости предсказаний показал **LightGBM**, несмотря на более длительное время обучения. Именно эта модель выбрана для финальной проверки на тестовой выборке."
   ]
  },
  {
   "cell_type": "markdown",
   "id": "a5222f5c-3a32-44ed-b425-d2cf8629efc9",
   "metadata": {},
   "source": [
    "# Шаг №6. Рекомендация для заказчика. "
   ]
  },
  {
   "cell_type": "markdown",
   "id": "b07d7522-e2ab-43a8-a1f0-4504b81cdac3",
   "metadata": {},
   "source": [
    "Проверка LightGBM на тест"
   ]
  },
  {
   "cell_type": "code",
   "execution_count": null,
   "id": "9f02a02c-206a-46be-99ba-0f31501382f9",
   "metadata": {},
   "outputs": [],
   "source": [
    "# Получаем лучшую модель LightGBM из GridSearchCV\n",
    "best_lgbm = grid_lgb.best_estimator_\n",
    "\n",
    "# Предсказания на тестовой выборке\n",
    "test_pred = best_lgbm.predict(features_test)\n",
    "\n",
    "# Считаем RMSE\n",
    "test_rmse = np.sqrt(mean_squared_error(target_test, test_pred))\n",
    "print(\"RMSE на тестовой выборке (LightGBM):\", round(test_rmse, 2))"
   ]
  },
  {
   "cell_type": "markdown",
   "id": "0d061a6a-a8f5-4cf1-95e0-605672152006",
   "metadata": {},
   "source": [
    "По итогам сравнения трёх моделей (**Ridge, RandomForest и LightGBM**) лучшей моделью была выбрана **LightGBM**, так как она показала:\n",
    "\n",
    "* наилучшее качество предсказаний (RMSE по кросс-валидации ≈ **1487**),\n",
    "* приемлемое, хотя и наибольшее среди моделей, время обучения (**\\~1460 секунд**),\n",
    "* высокую скорость предсказаний (**\\~0.3 секунд**).\n",
    "\n",
    "Для окончательной проверки модель была протестирована на отложенной тестовой выборке.\n",
    "Значение метрики RMSE составило **1522.8**, что значительно ниже порогового уровня 2500, установленного заказчиком.\n",
    "\n",
    "Таким образом:\n",
    "\n",
    "* критерий качества предсказаний выполнен,\n",
    "* критерий времени обучения удовлетворён (хотя обучение занимает больше времени, чем у RandomForest),\n",
    "* критерий времени предсказаний полностью удовлетворён.\n",
    "\n",
    "📌 **Итог**: модель **LightGBM** можно признать оптимальной и готовой к внедрению в сервис для оценки рыночной стоимости автомобилей."
   ]
  },
  {
   "cell_type": "markdown",
   "id": "22a15e56-81aa-47df-9469-e7c0a7f4d03e",
   "metadata": {},
   "source": [
    "# Финальный вывод "
   ]
  },
  {
   "cell_type": "markdown",
   "id": "e7853118-7928-473e-87e3-379bf9778655",
   "metadata": {},
   "source": [
    "В рамках проекта для сервиса **«Не бит, не крашен»** была выполнена задача по созданию модели машинного обучения, способной прогнозировать рыночную стоимость автомобилей с пробегом.\n",
    "\n",
    "\n",
    "### 🔹 Ход работы\n",
    "\n",
    "#### Изучение и подготовка данных\n",
    "\n",
    "* Исходный датасет содержал более 350 тыс. объявлений.\n",
    "* Обнаружены и обработаны пропуски в признаках *VehicleType, Gearbox, Model, FuelType, Repaired*.\n",
    "* Удалены аномальные записи: объявления с ценой равной 0 или выше 150 000 €, некорректные года регистрации, нулевая и чрезмерная мощность двигателя.\n",
    "* Удалены неинформативные признаки: *DateCrawled, DateCreated, LastSeen, NumberOfPictures, PostalCode*.\n",
    "* После очистки осталось \\~294 тыс. строк — этого достаточно для обучения моделей.\n",
    "\n",
    "#### Формирование выборок\n",
    "\n",
    "* Данные были разделены на обучающую (80%) и тестовую (20%) выборки.\n",
    "* На обучающей части использовалась кросс-валидация (CV), что позволило честно оценить модели без выделения отдельной валидационной выборки.\n",
    "* Распределение целевой переменной *Price* сопоставимо во всех выборках, что гарантирует корректность финальной оценки.\n",
    "\n",
    "#### Обучение и сравнение моделей\n",
    "\n",
    "Были протестированы разные подходы:\n",
    "\n",
    "* **Ridge Regression (линейная модель)**\n",
    "\n",
    "  * RMSE ≈ 2990 → не проходит порог заказчика (RMSE < 2500).\n",
    "  * Обучается (\\~11 сек) и предсказывает (\\~0.11 сек) очень быстро.\n",
    "\n",
    "* **RandomForestRegressor (ансамбль деревьев)**\n",
    "\n",
    "  * RMSE ≈ 1530 → качество хорошее.\n",
    "  * Время обучения \\~410 секунд, предсказание \\~0.8 сек.\n",
    "\n",
    "* **LightGBM (градиентный бустинг)**\n",
    "\n",
    "  * RMSE ≈ 1487 по кросс-валидации — лучший результат.\n",
    "  * Время обучения \\~1460 секунд (дольше RandomForest).\n",
    "  * Время предсказания \\~0.3 секунд (быстрее RandomForest, но медленнее Ridge).\n",
    "  * Обеспечивает лучший баланс качества и скорости для продакшн-задачи.\n",
    "\n",
    "---\n",
    "\n",
    "### 🔹 Финальное тестирование\n",
    "\n",
    "* Лучшая модель — **LightGBM**.\n",
    "* Проверка на тестовой выборке показала **RMSE = 1522.8**, что значительно ниже порогового значения **2500**.\n",
    "\n",
    "---\n",
    "\n",
    "### 🔹 Итоговый анализ\n",
    "\n",
    "Модель **LightGBM** соответствует всем критериям заказчика:\n",
    "\n",
    "* **Качество предсказаний**: RMSE < 2500 ✅\n",
    "* **Время обучения**: приемлемое, хотя и больше, чем у RandomForest ⚠️\n",
    "* **Время предсказаний**: высокая скорость, подходит для продакшн-сервиса ✅\n",
    "\n",
    "Простые модели (Ridge) не обеспечивают достаточного качества.\n",
    "Сложные ансамбли (RandomForest) дают хорошее качество, но предсказания слишком медленные.\n",
    "LightGBM показал оптимальное соотношение точности, скорости и устойчивости к большим данным.\n",
    "\n",
    "---\n",
    "\n",
    "### 🔹 Заключение\n",
    "\n",
    "Результаты исследования позволяют рекомендовать **LightGBM** как основную модель для внедрения в сервис оценки автомобилей «Не бит, не крашен». Она обеспечит пользователям:\n",
    "\n",
    "* точные прогнозы рыночной стоимости,\n",
    "* быструю обработку запросов в реальном времени,\n",
    "* масштабируемость решения для работы с большими потоками данных.\n",
    "\n",
    "Таким образом, поставленная задача выполнена: создана эффективная модель машинного обучения, полностью удовлетворяющая требованиям заказчика и готовая к практическому применению. ✅"
   ]
  }
 ],
 "metadata": {
  "ExecuteTimeLog": [
   {
    "duration": 2833,
    "start_time": "2025-09-23T13:26:04.130Z"
   },
   {
    "duration": 6666,
    "start_time": "2025-09-23T13:26:06.965Z"
   },
   {
    "duration": 58,
    "start_time": "2025-09-24T04:02:26.787Z"
   },
   {
    "duration": 65,
    "start_time": "2025-09-24T04:09:31.994Z"
   },
   {
    "duration": 2563,
    "start_time": "2025-09-24T04:09:38.571Z"
   },
   {
    "duration": 6290,
    "start_time": "2025-09-24T04:09:41.137Z"
   },
   {
    "duration": 1423,
    "start_time": "2025-09-24T04:09:47.429Z"
   },
   {
    "duration": 868,
    "start_time": "2025-09-24T04:09:48.854Z"
   },
   {
    "duration": 157,
    "start_time": "2025-09-24T04:09:49.724Z"
   },
   {
    "duration": 170,
    "start_time": "2025-09-24T04:09:49.883Z"
   },
   {
    "duration": 104,
    "start_time": "2025-09-24T04:09:50.055Z"
   },
   {
    "duration": 434,
    "start_time": "2025-09-24T04:09:50.161Z"
   },
   {
    "duration": 55,
    "start_time": "2025-09-24T04:09:50.596Z"
   },
   {
    "duration": 399,
    "start_time": "2025-09-24T04:09:50.653Z"
   },
   {
    "duration": 523,
    "start_time": "2025-09-24T04:09:51.054Z"
   },
   {
    "duration": 182,
    "start_time": "2025-09-24T04:09:51.579Z"
   },
   {
    "duration": 43,
    "start_time": "2025-09-24T04:09:51.763Z"
   },
   {
    "duration": 45,
    "start_time": "2025-09-24T04:09:51.808Z"
   },
   {
    "duration": 86,
    "start_time": "2025-09-24T04:09:51.854Z"
   },
   {
    "duration": 413,
    "start_time": "2025-09-24T04:09:51.942Z"
   },
   {
    "duration": 4,
    "start_time": "2025-09-24T04:09:52.357Z"
   },
   {
    "duration": 52,
    "start_time": "2025-09-24T04:09:52.363Z"
   },
   {
    "duration": 10874,
    "start_time": "2025-09-24T04:09:52.417Z"
   },
   {
    "duration": 2243,
    "start_time": "2025-09-24T04:15:41.624Z"
   },
   {
    "duration": 2858,
    "start_time": "2025-09-24T04:15:43.869Z"
   },
   {
    "duration": 1217,
    "start_time": "2025-09-24T04:15:46.729Z"
   },
   {
    "duration": 943,
    "start_time": "2025-09-24T04:15:47.948Z"
   },
   {
    "duration": 137,
    "start_time": "2025-09-24T04:15:48.893Z"
   },
   {
    "duration": 145,
    "start_time": "2025-09-24T04:15:49.032Z"
   },
   {
    "duration": 86,
    "start_time": "2025-09-24T04:15:49.178Z"
   },
   {
    "duration": 443,
    "start_time": "2025-09-24T04:15:49.266Z"
   },
   {
    "duration": 66,
    "start_time": "2025-09-24T04:15:49.711Z"
   },
   {
    "duration": 388,
    "start_time": "2025-09-24T04:15:49.780Z"
   },
   {
    "duration": 526,
    "start_time": "2025-09-24T04:15:50.177Z"
   },
   {
    "duration": 194,
    "start_time": "2025-09-24T04:15:50.705Z"
   },
   {
    "duration": 40,
    "start_time": "2025-09-24T04:15:50.901Z"
   },
   {
    "duration": 281,
    "start_time": "2025-09-24T04:15:50.943Z"
   },
   {
    "duration": 23,
    "start_time": "2025-09-24T04:15:51.226Z"
   },
   {
    "duration": 92,
    "start_time": "2025-09-24T04:15:51.251Z"
   },
   {
    "duration": 377,
    "start_time": "2025-09-24T04:15:51.345Z"
   },
   {
    "duration": 4,
    "start_time": "2025-09-24T04:15:51.723Z"
   },
   {
    "duration": 99,
    "start_time": "2025-09-24T04:15:51.728Z"
   },
   {
    "duration": 9084,
    "start_time": "2025-09-24T04:15:51.829Z"
   },
   {
    "duration": 356673,
    "start_time": "2025-09-24T04:16:00.915Z"
   },
   {
    "duration": 318491,
    "start_time": "2025-09-24T04:21:57.589Z"
   },
   {
    "duration": 11,
    "start_time": "2025-09-24T04:27:16.082Z"
   },
   {
    "duration": 16,
    "start_time": "2025-09-24T04:27:16.095Z"
   },
   {
    "duration": 465,
    "start_time": "2025-09-24T04:27:16.113Z"
   },
   {
    "duration": 806,
    "start_time": "2025-09-24T04:27:16.580Z"
   },
   {
    "duration": 20,
    "start_time": "2025-09-24T04:27:17.390Z"
   },
   {
    "duration": 2207,
    "start_time": "2025-09-24T04:36:52.951Z"
   },
   {
    "duration": 2786,
    "start_time": "2025-09-24T04:36:55.160Z"
   },
   {
    "duration": 1301,
    "start_time": "2025-09-24T04:36:57.948Z"
   },
   {
    "duration": 917,
    "start_time": "2025-09-24T04:36:59.250Z"
   },
   {
    "duration": 144,
    "start_time": "2025-09-24T04:37:00.168Z"
   },
   {
    "duration": 164,
    "start_time": "2025-09-24T04:37:00.314Z"
   },
   {
    "duration": 105,
    "start_time": "2025-09-24T04:37:00.480Z"
   },
   {
    "duration": 436,
    "start_time": "2025-09-24T04:37:00.587Z"
   },
   {
    "duration": 63,
    "start_time": "2025-09-24T04:37:01.024Z"
   },
   {
    "duration": 380,
    "start_time": "2025-09-24T04:37:01.089Z"
   },
   {
    "duration": 534,
    "start_time": "2025-09-24T04:37:01.470Z"
   },
   {
    "duration": 205,
    "start_time": "2025-09-24T04:37:02.006Z"
   },
   {
    "duration": 36,
    "start_time": "2025-09-24T04:37:02.213Z"
   },
   {
    "duration": 344,
    "start_time": "2025-09-24T04:37:02.251Z"
   },
   {
    "duration": 23,
    "start_time": "2025-09-24T04:37:02.598Z"
   },
   {
    "duration": 175,
    "start_time": "2025-09-24T04:37:02.623Z"
   },
   {
    "duration": 378,
    "start_time": "2025-09-24T04:37:02.800Z"
   },
   {
    "duration": 4,
    "start_time": "2025-09-24T04:37:03.180Z"
   },
   {
    "duration": 66,
    "start_time": "2025-09-24T04:37:03.186Z"
   },
   {
    "duration": 10679,
    "start_time": "2025-09-24T04:37:03.254Z"
   },
   {
    "duration": 2345,
    "start_time": "2025-09-24T04:44:20.598Z"
   },
   {
    "duration": 2771,
    "start_time": "2025-09-24T04:44:22.946Z"
   },
   {
    "duration": 1243,
    "start_time": "2025-09-24T04:44:25.719Z"
   },
   {
    "duration": 913,
    "start_time": "2025-09-24T04:44:26.964Z"
   },
   {
    "duration": 144,
    "start_time": "2025-09-24T04:44:27.878Z"
   },
   {
    "duration": 173,
    "start_time": "2025-09-24T04:44:28.024Z"
   },
   {
    "duration": 137,
    "start_time": "2025-09-24T04:44:28.198Z"
   },
   {
    "duration": 415,
    "start_time": "2025-09-24T04:44:28.337Z"
   },
   {
    "duration": 67,
    "start_time": "2025-09-24T04:44:28.754Z"
   },
   {
    "duration": 392,
    "start_time": "2025-09-24T04:44:28.824Z"
   },
   {
    "duration": 512,
    "start_time": "2025-09-24T04:44:29.217Z"
   },
   {
    "duration": 192,
    "start_time": "2025-09-24T04:44:29.731Z"
   },
   {
    "duration": 55,
    "start_time": "2025-09-24T04:44:29.924Z"
   },
   {
    "duration": 365,
    "start_time": "2025-09-24T04:44:29.980Z"
   },
   {
    "duration": 32,
    "start_time": "2025-09-24T04:44:30.347Z"
   },
   {
    "duration": 101,
    "start_time": "2025-09-24T04:44:30.380Z"
   },
   {
    "duration": 395,
    "start_time": "2025-09-24T04:44:30.483Z"
   },
   {
    "duration": 4,
    "start_time": "2025-09-24T04:44:30.880Z"
   },
   {
    "duration": 42,
    "start_time": "2025-09-24T04:44:30.885Z"
   },
   {
    "duration": 11168,
    "start_time": "2025-09-24T04:44:30.929Z"
   },
   {
    "duration": 410867,
    "start_time": "2025-09-24T04:44:42.099Z"
   },
   {
    "duration": 1462321,
    "start_time": "2025-09-24T04:51:32.968Z"
   },
   {
    "duration": 119,
    "start_time": "2025-09-24T05:15:55.376Z"
   },
   {
    "duration": 0,
    "start_time": "2025-09-24T05:15:55.497Z"
   },
   {
    "duration": 0,
    "start_time": "2025-09-24T05:15:55.498Z"
   },
   {
    "duration": 0,
    "start_time": "2025-09-24T05:15:55.500Z"
   },
   {
    "duration": 0,
    "start_time": "2025-09-24T05:15:55.501Z"
   },
   {
    "duration": 12,
    "start_time": "2025-09-24T05:16:11.937Z"
   },
   {
    "duration": 12,
    "start_time": "2025-09-24T05:16:31.900Z"
   },
   {
    "duration": 13,
    "start_time": "2025-09-24T05:16:34.247Z"
   },
   {
    "duration": 11,
    "start_time": "2025-09-24T05:17:02.838Z"
   },
   {
    "duration": 2553,
    "start_time": "2025-09-24T05:17:05.364Z"
   },
   {
    "duration": 426,
    "start_time": "2025-09-24T05:17:29.419Z"
   },
   {
    "duration": 684,
    "start_time": "2025-09-24T05:19:51.708Z"
   },
   {
    "duration": 2193,
    "start_time": "2025-09-24T05:25:22.615Z"
   },
   {
    "duration": 2932,
    "start_time": "2025-09-24T05:25:24.810Z"
   },
   {
    "duration": 1293,
    "start_time": "2025-09-24T05:25:27.744Z"
   },
   {
    "duration": 854,
    "start_time": "2025-09-24T05:25:29.039Z"
   },
   {
    "duration": 133,
    "start_time": "2025-09-24T05:25:29.894Z"
   },
   {
    "duration": 176,
    "start_time": "2025-09-24T05:25:30.029Z"
   },
   {
    "duration": 90,
    "start_time": "2025-09-24T05:25:30.207Z"
   },
   {
    "duration": 436,
    "start_time": "2025-09-24T05:25:30.298Z"
   },
   {
    "duration": 64,
    "start_time": "2025-09-24T05:25:30.736Z"
   },
   {
    "duration": 392,
    "start_time": "2025-09-24T05:25:30.802Z"
   },
   {
    "duration": 527,
    "start_time": "2025-09-24T05:25:31.196Z"
   },
   {
    "duration": 187,
    "start_time": "2025-09-24T05:25:31.724Z"
   },
   {
    "duration": 45,
    "start_time": "2025-09-24T05:25:31.912Z"
   },
   {
    "duration": 295,
    "start_time": "2025-09-24T05:25:31.958Z"
   },
   {
    "duration": 31,
    "start_time": "2025-09-24T05:25:32.255Z"
   },
   {
    "duration": 77,
    "start_time": "2025-09-24T05:25:32.287Z"
   },
   {
    "duration": 375,
    "start_time": "2025-09-24T05:25:32.366Z"
   },
   {
    "duration": 5,
    "start_time": "2025-09-24T05:25:32.743Z"
   },
   {
    "duration": 36,
    "start_time": "2025-09-24T05:25:32.749Z"
   },
   {
    "duration": 11608,
    "start_time": "2025-09-24T05:25:32.787Z"
   }
  ],
  "kernelspec": {
   "display_name": "Python 3 (ipykernel)",
   "language": "python",
   "name": "python3"
  },
  "language_info": {
   "codemirror_mode": {
    "name": "ipython",
    "version": 3
   },
   "file_extension": ".py",
   "mimetype": "text/x-python",
   "name": "python",
   "nbconvert_exporter": "python",
   "pygments_lexer": "ipython3",
   "version": "3.13.5"
  },
  "toc": {
   "base_numbering": 1,
   "nav_menu": {},
   "number_sections": true,
   "sideBar": true,
   "skip_h1_title": true,
   "title_cell": "Table of Contents",
   "title_sidebar": "Contents",
   "toc_cell": false,
   "toc_position": {},
   "toc_section_display": true,
   "toc_window_display": false
  }
 },
 "nbformat": 4,
 "nbformat_minor": 5
}
